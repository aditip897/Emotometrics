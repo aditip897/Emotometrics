{
 "cells": [
  {
   "cell_type": "code",
   "execution_count": 1,
   "id": "3f676151-7b55-4704-ad64-9dea4eaca066",
   "metadata": {
    "tags": []
   },
   "outputs": [],
   "source": [
    "import pandas as pd"
   ]
  },
  {
   "cell_type": "code",
   "execution_count": 2,
   "id": "d7d9f7fe-cea6-4a88-8942-f6b6b53a851e",
   "metadata": {
    "tags": []
   },
   "outputs": [
    {
     "data": {
      "text/plain": [
       "'C:\\\\Users\\\\aditi'"
      ]
     },
     "execution_count": 2,
     "metadata": {},
     "output_type": "execute_result"
    }
   ],
   "source": [
    "import os\n",
    "os.getcwd()"
   ]
  },
  {
   "cell_type": "code",
   "execution_count": 3,
   "id": "55a218ad-2999-4848-8a8b-03f313d0b14f",
   "metadata": {
    "tags": []
   },
   "outputs": [
    {
     "name": "stdout",
     "output_type": "stream",
     "text": [
      "hi\n"
     ]
    }
   ],
   "source": [
    "print(\"hi\")"
   ]
  },
  {
   "cell_type": "code",
   "execution_count": 4,
   "id": "14f80182-d170-40a9-bdf6-10a2f77b4361",
   "metadata": {
    "tags": []
   },
   "outputs": [],
   "source": [
    "reviews_df = pd.read_csv(\"Downloads/employeeFeedbackDataset.csv\", encoding=\"utf-8\")"
   ]
  },
  {
   "cell_type": "code",
   "execution_count": 5,
   "id": "7d04cbe4-56b2-4420-86f3-154476656e12",
   "metadata": {
    "tags": []
   },
   "outputs": [
    {
     "data": {
      "text/html": [
       "<div>\n",
       "<style scoped>\n",
       "    .dataframe tbody tr th:only-of-type {\n",
       "        vertical-align: middle;\n",
       "    }\n",
       "\n",
       "    .dataframe tbody tr th {\n",
       "        vertical-align: top;\n",
       "    }\n",
       "\n",
       "    .dataframe thead th {\n",
       "        text-align: right;\n",
       "    }\n",
       "</style>\n",
       "<table border=\"1\" class=\"dataframe\">\n",
       "  <thead>\n",
       "    <tr style=\"text-align: right;\">\n",
       "      <th></th>\n",
       "      <th>Employee ID</th>\n",
       "      <th>Employee Chats</th>\n",
       "      <th>Employee Feedback</th>\n",
       "      <th>Division/Organization</th>\n",
       "      <th>Location of Office</th>\n",
       "    </tr>\n",
       "  </thead>\n",
       "  <tbody>\n",
       "    <tr>\n",
       "      <th>0</th>\n",
       "      <td>EMP001</td>\n",
       "      <td>I love how leadership listens to our concerns ...</td>\n",
       "      <td>This initiative looks great but execution is e...</td>\n",
       "      <td>Marketing</td>\n",
       "      <td>Atlanta, GA</td>\n",
       "    </tr>\n",
       "    <tr>\n",
       "      <th>1</th>\n",
       "      <td>EMP002</td>\n",
       "      <td>It's so frustrating when decisions are made wi...</td>\n",
       "      <td>Great concept but people will only use it if i...</td>\n",
       "      <td>Learning &amp; Development</td>\n",
       "      <td>Los Angeles, CA</td>\n",
       "    </tr>\n",
       "    <tr>\n",
       "      <th>2</th>\n",
       "      <td>EMP003</td>\n",
       "      <td>If leadership stopped micromanaging, people wo...</td>\n",
       "      <td>This would improve morale but only if leadersh...</td>\n",
       "      <td>Finance</td>\n",
       "      <td>Boston, MA</td>\n",
       "    </tr>\n",
       "    <tr>\n",
       "      <th>3</th>\n",
       "      <td>EMP004</td>\n",
       "      <td>We spend too much time on manual reports when ...</td>\n",
       "      <td>This is a great idea but we need to consider c...</td>\n",
       "      <td>Customer Support</td>\n",
       "      <td>New York, NY</td>\n",
       "    </tr>\n",
       "    <tr>\n",
       "      <th>4</th>\n",
       "      <td>EMP005</td>\n",
       "      <td>This company has given me incredible career gr...</td>\n",
       "      <td>This is an exciting idea! If we get the right ...</td>\n",
       "      <td>Finance</td>\n",
       "      <td>Dallas, TX</td>\n",
       "    </tr>\n",
       "    <tr>\n",
       "      <th>...</th>\n",
       "      <td>...</td>\n",
       "      <td>...</td>\n",
       "      <td>...</td>\n",
       "      <td>...</td>\n",
       "      <td>...</td>\n",
       "    </tr>\n",
       "    <tr>\n",
       "      <th>145</th>\n",
       "      <td>EMP146</td>\n",
       "      <td>Every time I catch up on work, another pile la...</td>\n",
       "      <td>This is a great idea but we need to consider c...</td>\n",
       "      <td>Learning &amp; Development</td>\n",
       "      <td>Washington, D.C.</td>\n",
       "    </tr>\n",
       "    <tr>\n",
       "      <th>146</th>\n",
       "      <td>EMP147</td>\n",
       "      <td>The company surprised us with a bonus today! D...</td>\n",
       "      <td>If this isn't executed well, it could just be ...</td>\n",
       "      <td>Corporate Benefits</td>\n",
       "      <td>Dallas, TX</td>\n",
       "    </tr>\n",
       "    <tr>\n",
       "      <th>147</th>\n",
       "      <td>EMP148</td>\n",
       "      <td>Had a random conversation with a coworker toda...</td>\n",
       "      <td>This would improve morale but only if leadersh...</td>\n",
       "      <td>Marketing</td>\n",
       "      <td>Seattle, WA</td>\n",
       "    </tr>\n",
       "    <tr>\n",
       "      <th>148</th>\n",
       "      <td>EMP149</td>\n",
       "      <td>Just got back from a training session, and it ...</td>\n",
       "      <td>It will only work if employees are given time ...</td>\n",
       "      <td>Administration</td>\n",
       "      <td>Seattle, WA</td>\n",
       "    </tr>\n",
       "    <tr>\n",
       "      <th>149</th>\n",
       "      <td>EMP150</td>\n",
       "      <td>I’m beyond frustrated—our department keeps get...</td>\n",
       "      <td>Wow, they’re actually considering something us...</td>\n",
       "      <td>Facilities</td>\n",
       "      <td>Los Angeles, CA</td>\n",
       "    </tr>\n",
       "  </tbody>\n",
       "</table>\n",
       "<p>150 rows × 5 columns</p>\n",
       "</div>"
      ],
      "text/plain": [
       "    Employee ID                                     Employee Chats  \\\n",
       "0        EMP001  I love how leadership listens to our concerns ...   \n",
       "1        EMP002  It's so frustrating when decisions are made wi...   \n",
       "2        EMP003  If leadership stopped micromanaging, people wo...   \n",
       "3        EMP004  We spend too much time on manual reports when ...   \n",
       "4        EMP005  This company has given me incredible career gr...   \n",
       "..          ...                                                ...   \n",
       "145      EMP146  Every time I catch up on work, another pile la...   \n",
       "146      EMP147  The company surprised us with a bonus today! D...   \n",
       "147      EMP148  Had a random conversation with a coworker toda...   \n",
       "148      EMP149  Just got back from a training session, and it ...   \n",
       "149      EMP150  I’m beyond frustrated—our department keeps get...   \n",
       "\n",
       "                                     Employee Feedback  \\\n",
       "0    This initiative looks great but execution is e...   \n",
       "1    Great concept but people will only use it if i...   \n",
       "2    This would improve morale but only if leadersh...   \n",
       "3    This is a great idea but we need to consider c...   \n",
       "4    This is an exciting idea! If we get the right ...   \n",
       "..                                                 ...   \n",
       "145  This is a great idea but we need to consider c...   \n",
       "146  If this isn't executed well, it could just be ...   \n",
       "147  This would improve morale but only if leadersh...   \n",
       "148  It will only work if employees are given time ...   \n",
       "149  Wow, they’re actually considering something us...   \n",
       "\n",
       "      Division/Organization Location of Office  \n",
       "0                 Marketing        Atlanta, GA  \n",
       "1    Learning & Development    Los Angeles, CA  \n",
       "2                   Finance         Boston, MA  \n",
       "3          Customer Support       New York, NY  \n",
       "4                   Finance         Dallas, TX  \n",
       "..                      ...                ...  \n",
       "145  Learning & Development   Washington, D.C.  \n",
       "146      Corporate Benefits         Dallas, TX  \n",
       "147               Marketing        Seattle, WA  \n",
       "148          Administration        Seattle, WA  \n",
       "149              Facilities    Los Angeles, CA  \n",
       "\n",
       "[150 rows x 5 columns]"
      ]
     },
     "execution_count": 5,
     "metadata": {},
     "output_type": "execute_result"
    }
   ],
   "source": [
    "reviews_df"
   ]
  },
  {
   "cell_type": "code",
   "execution_count": 6,
   "id": "1017e8c4-065f-47f5-a451-f303ef5c66a7",
   "metadata": {
    "tags": []
   },
   "outputs": [],
   "source": [
    "from google.cloud import language\n",
    "\n",
    "def analyze_text_sentiment(text: str) -> language.AnalyzeSentimentResponse:\n",
    "    client = language.LanguageServiceClient()\n",
    "    document = language.Document(\n",
    "        content=text,\n",
    "        type_=language.Document.Type.PLAIN_TEXT,\n",
    "    )\n",
    "    return client.analyze_sentiment(document=document)\n",
    "\n",
    "def show_text_sentiment(response: language.AnalyzeSentimentResponse):\n",
    "    import pandas as pd\n",
    "\n",
    "    columns = [\"score\", \"sentence\"]\n",
    "    data = [(s.sentiment.score, s.text.content) for s in response.sentences]\n",
    "    df_sentence = pd.DataFrame(columns=columns, data=data)\n",
    "\n",
    "    sentiment = response.document_sentiment\n",
    "    columns = [\"score\", \"magnitude\", \"language\"]\n",
    "    data = [(sentiment.score, sentiment.magnitude, response.language)]\n",
    "    df_document = pd.DataFrame(columns=columns, data=data)\n",
    "\n",
    "    format_args = dict(index=False, tablefmt=\"presto\", floatfmt=\"+.1f\")\n",
    "    print(f\"At sentence level:\\n{df_sentence.to_markdown(**format_args)}\")\n",
    "    print()\n",
    "    print(f\"At document level:\\n{df_document.to_markdown(**format_args)}\")\n",
    "    "
   ]
  },
  {
   "cell_type": "code",
   "execution_count": 7,
   "id": "4b31b687-d65e-4ef8-86cb-8002094a0518",
   "metadata": {
    "tags": []
   },
   "outputs": [
    {
     "name": "stdout",
     "output_type": "stream",
     "text": [
      "At sentence level:\n",
      "   score | sentence\n",
      "---------+------------------------------------------------------------------------------------------\n",
      "    +0.8 | Python is a very readable language, which makes it easy to understand and maintain code.\n",
      "    +0.9 | It's simple, very flexible, easy to learn, and suitable for a wide variety of tasks.\n",
      "    -0.4 | One disadvantage is its speed: it's not as fast as some other programming languages.\n",
      "\n",
      "At document level:\n",
      "   score |   magnitude | language\n",
      "---------+-------------+------------\n",
      "    +0.4 |        +2.2 | en\n"
     ]
    }
   ],
   "source": [
    "# Input\n",
    "text = \"\"\"\n",
    "Python is a very readable language, which makes it easy to understand and maintain code.\n",
    "It's simple, very flexible, easy to learn, and suitable for a wide variety of tasks.\n",
    "One disadvantage is its speed: it's not as fast as some other programming languages.\n",
    "\"\"\"\n",
    "\n",
    "# Send a request to the API\n",
    "analyze_sentiment_response = analyze_text_sentiment(text)\n",
    "\n",
    "# Show the results\n",
    "show_text_sentiment(analyze_sentiment_response)"
   ]
  },
  {
   "cell_type": "code",
   "execution_count": 8,
   "id": "6ad710ae-a06b-4e69-a00e-e1a3efb6a9fc",
   "metadata": {
    "tags": []
   },
   "outputs": [
    {
     "name": "stderr",
     "output_type": "stream",
     "text": [
      "100%|██████████| 150/150 [05:50<00:00,  2.34s/it]\n",
      "100%|██████████| 150/150 [05:14<00:00,  2.10s/it]"
     ]
    },
    {
     "name": "stdout",
     "output_type": "stream",
     "text": [
      "  Employee ID                                     Employee Chats  \\\n",
      "0      EMP001  I love how leadership listens to our concerns ...   \n",
      "1      EMP002  It's so frustrating when decisions are made wi...   \n",
      "2      EMP003  If leadership stopped micromanaging, people wo...   \n",
      "3      EMP004  We spend too much time on manual reports when ...   \n",
      "4      EMP005  This company has given me incredible career gr...   \n",
      "\n",
      "                                   Employee Feedback   Division/Organization  \\\n",
      "0  This initiative looks great but execution is e...               Marketing   \n",
      "1  Great concept but people will only use it if i...  Learning & Development   \n",
      "2  This would improve morale but only if leadersh...                 Finance   \n",
      "3  This is a great idea but we need to consider c...        Customer Support   \n",
      "4  This is an exciting idea! If we get the right ...                 Finance   \n",
      "\n",
      "  Location of Office  chat_sentiment  feedback_sentiment  \n",
      "0        Atlanta, GA             0.9                 0.0  \n",
      "1    Los Angeles, CA            -0.8                 0.0  \n",
      "2         Boston, MA            -0.3                -0.4  \n",
      "3       New York, NY             0.0                 0.0  \n",
      "4         Dallas, TX             0.9                 0.5  \n"
     ]
    },
    {
     "name": "stderr",
     "output_type": "stream",
     "text": [
      "\n"
     ]
    }
   ],
   "source": [
    "\n",
    "from tqdm import tqdm\n",
    "\n",
    "\n",
    "tqdm.pandas()\n",
    "\n",
    "\n",
    "def get_sentiment_score(text):\n",
    "    if pd.isna(text) or text.strip() == \"\":\n",
    "        return None \n",
    "    \n",
    "    response = analyze_text_sentiment(text)\n",
    "    return response.document_sentiment.score \n",
    "\n",
    "reviews_df[\"chat_sentiment\"] = reviews_df[\"Employee Chats\"].progress_apply(get_sentiment_score)\n",
    "reviews_df[\"feedback_sentiment\"] = reviews_df[\"Employee Feedback\"].progress_apply(get_sentiment_score)\n",
    "\n",
    "print(reviews_df.head())"
   ]
  },
  {
   "cell_type": "code",
   "execution_count": 11,
   "id": "1686d918-1274-4eb6-9e50-b63f144bc2d2",
   "metadata": {
    "tags": []
   },
   "outputs": [
    {
     "data": {
      "text/html": [
       "<div>\n",
       "<style scoped>\n",
       "    .dataframe tbody tr th:only-of-type {\n",
       "        vertical-align: middle;\n",
       "    }\n",
       "\n",
       "    .dataframe tbody tr th {\n",
       "        vertical-align: top;\n",
       "    }\n",
       "\n",
       "    .dataframe thead th {\n",
       "        text-align: right;\n",
       "    }\n",
       "</style>\n",
       "<table border=\"1\" class=\"dataframe\">\n",
       "  <thead>\n",
       "    <tr style=\"text-align: right;\">\n",
       "      <th></th>\n",
       "      <th>Employee ID</th>\n",
       "      <th>Employee Chats</th>\n",
       "      <th>Employee Feedback</th>\n",
       "      <th>Division/Organization</th>\n",
       "      <th>Location of Office</th>\n",
       "      <th>chat_sentiment</th>\n",
       "      <th>feedback_sentiment</th>\n",
       "    </tr>\n",
       "  </thead>\n",
       "  <tbody>\n",
       "    <tr>\n",
       "      <th>0</th>\n",
       "      <td>EMP001</td>\n",
       "      <td>I love how leadership listens to our concerns ...</td>\n",
       "      <td>This initiative looks great but execution is e...</td>\n",
       "      <td>Marketing</td>\n",
       "      <td>Atlanta, GA</td>\n",
       "      <td>0.9</td>\n",
       "      <td>0.0</td>\n",
       "    </tr>\n",
       "    <tr>\n",
       "      <th>1</th>\n",
       "      <td>EMP002</td>\n",
       "      <td>It's so frustrating when decisions are made wi...</td>\n",
       "      <td>Great concept but people will only use it if i...</td>\n",
       "      <td>Learning &amp; Development</td>\n",
       "      <td>Los Angeles, CA</td>\n",
       "      <td>-0.8</td>\n",
       "      <td>0.0</td>\n",
       "    </tr>\n",
       "    <tr>\n",
       "      <th>2</th>\n",
       "      <td>EMP003</td>\n",
       "      <td>If leadership stopped micromanaging, people wo...</td>\n",
       "      <td>This would improve morale but only if leadersh...</td>\n",
       "      <td>Finance</td>\n",
       "      <td>Boston, MA</td>\n",
       "      <td>-0.3</td>\n",
       "      <td>-0.4</td>\n",
       "    </tr>\n",
       "    <tr>\n",
       "      <th>3</th>\n",
       "      <td>EMP004</td>\n",
       "      <td>We spend too much time on manual reports when ...</td>\n",
       "      <td>This is a great idea but we need to consider c...</td>\n",
       "      <td>Customer Support</td>\n",
       "      <td>New York, NY</td>\n",
       "      <td>0.0</td>\n",
       "      <td>0.0</td>\n",
       "    </tr>\n",
       "    <tr>\n",
       "      <th>4</th>\n",
       "      <td>EMP005</td>\n",
       "      <td>This company has given me incredible career gr...</td>\n",
       "      <td>This is an exciting idea! If we get the right ...</td>\n",
       "      <td>Finance</td>\n",
       "      <td>Dallas, TX</td>\n",
       "      <td>0.9</td>\n",
       "      <td>0.5</td>\n",
       "    </tr>\n",
       "  </tbody>\n",
       "</table>\n",
       "</div>"
      ],
      "text/plain": [
       "  Employee ID                                     Employee Chats  \\\n",
       "0      EMP001  I love how leadership listens to our concerns ...   \n",
       "1      EMP002  It's so frustrating when decisions are made wi...   \n",
       "2      EMP003  If leadership stopped micromanaging, people wo...   \n",
       "3      EMP004  We spend too much time on manual reports when ...   \n",
       "4      EMP005  This company has given me incredible career gr...   \n",
       "\n",
       "                                   Employee Feedback   Division/Organization  \\\n",
       "0  This initiative looks great but execution is e...               Marketing   \n",
       "1  Great concept but people will only use it if i...  Learning & Development   \n",
       "2  This would improve morale but only if leadersh...                 Finance   \n",
       "3  This is a great idea but we need to consider c...        Customer Support   \n",
       "4  This is an exciting idea! If we get the right ...                 Finance   \n",
       "\n",
       "  Location of Office  chat_sentiment  feedback_sentiment  \n",
       "0        Atlanta, GA             0.9                 0.0  \n",
       "1    Los Angeles, CA            -0.8                 0.0  \n",
       "2         Boston, MA            -0.3                -0.4  \n",
       "3       New York, NY             0.0                 0.0  \n",
       "4         Dallas, TX             0.9                 0.5  "
      ]
     },
     "execution_count": 11,
     "metadata": {},
     "output_type": "execute_result"
    }
   ],
   "source": [
    "reviews_df.head()"
   ]
  },
  {
   "cell_type": "code",
   "execution_count": 14,
   "id": "ac7701c8-aeae-44f6-9671-950dfc850ffb",
   "metadata": {
    "tags": []
   },
   "outputs": [],
   "source": [
    "reviews_df.to_csv(\"employee.csv\", index=False)"
   ]
  },
  {
   "cell_type": "code",
   "execution_count": 17,
   "id": "90cfd73f-5536-4b1d-afa6-c752804aa33b",
   "metadata": {
    "tags": []
   },
   "outputs": [
    {
     "name": "stderr",
     "output_type": "stream",
     "text": [
      "Device set to use cpu\n"
     ]
    },
    {
     "name": "stdout",
     "output_type": "stream",
     "text": [
      "  Employee ID                                     Employee Chats  \\\n",
      "0      EMP001  I love how leadership listens to our concerns ...   \n",
      "1      EMP002  It's so frustrating when decisions are made wi...   \n",
      "2      EMP003  If leadership stopped micromanaging, people wo...   \n",
      "3      EMP004  We spend too much time on manual reports when ...   \n",
      "4      EMP005  This company has given me incredible career gr...   \n",
      "\n",
      "                                   Employee Feedback   Division/Organization  \\\n",
      "0  This initiative looks great but execution is e...               Marketing   \n",
      "1  Great concept but people will only use it if i...  Learning & Development   \n",
      "2  This would improve morale but only if leadersh...                 Finance   \n",
      "3  This is a great idea but we need to consider c...        Customer Support   \n",
      "4  This is an exciting idea! If we get the right ...                 Finance   \n",
      "\n",
      "  Location of Office  chat_sentiment  feedback_sentiment chat_emotion  \\\n",
      "0        Atlanta, GA             0.9                 0.0          joy   \n",
      "1    Los Angeles, CA            -0.8                 0.0      sadness   \n",
      "2         Boston, MA            -0.3                -0.4      neutral   \n",
      "3       New York, NY             0.0                 0.0      neutral   \n",
      "4         Dallas, TX             0.9                 0.5          joy   \n",
      "\n",
      "  feedback_emotion  \n",
      "0          neutral  \n",
      "1          neutral  \n",
      "2          neutral  \n",
      "3          neutral  \n",
      "4              joy  \n"
     ]
    }
   ],
   "source": [
    "from transformers import pipeline\n",
    "\n",
    "classifier = pipeline(\"text-classification\", model=\"j-hartmann/emotion-english-distilroberta-base\")\n",
    "\n",
    "reviews_df['chat_emotion'] = reviews_df['Employee Chats'].apply(lambda x: classifier(x)[0]['label'] if pd.notnull(x) else 'None')\n",
    "reviews_df['feedback_emotion'] = reviews_df['Employee Feedback'].apply(lambda x: classifier(x)[0]['label'] if pd.notnull(x) else 'None')\n",
    "\n",
    "print(reviews_df.head())\n"
   ]
  },
  {
   "cell_type": "code",
   "execution_count": 18,
   "id": "11ba470b-9dd2-4ff8-9c36-e7e2af12ce50",
   "metadata": {
    "tags": []
   },
   "outputs": [
    {
     "data": {
      "text/html": [
       "<div>\n",
       "<style scoped>\n",
       "    .dataframe tbody tr th:only-of-type {\n",
       "        vertical-align: middle;\n",
       "    }\n",
       "\n",
       "    .dataframe tbody tr th {\n",
       "        vertical-align: top;\n",
       "    }\n",
       "\n",
       "    .dataframe thead th {\n",
       "        text-align: right;\n",
       "    }\n",
       "</style>\n",
       "<table border=\"1\" class=\"dataframe\">\n",
       "  <thead>\n",
       "    <tr style=\"text-align: right;\">\n",
       "      <th></th>\n",
       "      <th>Employee ID</th>\n",
       "      <th>Employee Chats</th>\n",
       "      <th>Employee Feedback</th>\n",
       "      <th>Division/Organization</th>\n",
       "      <th>Location of Office</th>\n",
       "      <th>chat_sentiment</th>\n",
       "      <th>feedback_sentiment</th>\n",
       "      <th>chat_emotion</th>\n",
       "      <th>feedback_emotion</th>\n",
       "    </tr>\n",
       "  </thead>\n",
       "  <tbody>\n",
       "    <tr>\n",
       "      <th>0</th>\n",
       "      <td>EMP001</td>\n",
       "      <td>I love how leadership listens to our concerns ...</td>\n",
       "      <td>This initiative looks great but execution is e...</td>\n",
       "      <td>Marketing</td>\n",
       "      <td>Atlanta, GA</td>\n",
       "      <td>0.9</td>\n",
       "      <td>0.0</td>\n",
       "      <td>joy</td>\n",
       "      <td>neutral</td>\n",
       "    </tr>\n",
       "    <tr>\n",
       "      <th>1</th>\n",
       "      <td>EMP002</td>\n",
       "      <td>It's so frustrating when decisions are made wi...</td>\n",
       "      <td>Great concept but people will only use it if i...</td>\n",
       "      <td>Learning &amp; Development</td>\n",
       "      <td>Los Angeles, CA</td>\n",
       "      <td>-0.8</td>\n",
       "      <td>0.0</td>\n",
       "      <td>sadness</td>\n",
       "      <td>neutral</td>\n",
       "    </tr>\n",
       "    <tr>\n",
       "      <th>2</th>\n",
       "      <td>EMP003</td>\n",
       "      <td>If leadership stopped micromanaging, people wo...</td>\n",
       "      <td>This would improve morale but only if leadersh...</td>\n",
       "      <td>Finance</td>\n",
       "      <td>Boston, MA</td>\n",
       "      <td>-0.3</td>\n",
       "      <td>-0.4</td>\n",
       "      <td>neutral</td>\n",
       "      <td>neutral</td>\n",
       "    </tr>\n",
       "    <tr>\n",
       "      <th>3</th>\n",
       "      <td>EMP004</td>\n",
       "      <td>We spend too much time on manual reports when ...</td>\n",
       "      <td>This is a great idea but we need to consider c...</td>\n",
       "      <td>Customer Support</td>\n",
       "      <td>New York, NY</td>\n",
       "      <td>0.0</td>\n",
       "      <td>0.0</td>\n",
       "      <td>neutral</td>\n",
       "      <td>neutral</td>\n",
       "    </tr>\n",
       "    <tr>\n",
       "      <th>4</th>\n",
       "      <td>EMP005</td>\n",
       "      <td>This company has given me incredible career gr...</td>\n",
       "      <td>This is an exciting idea! If we get the right ...</td>\n",
       "      <td>Finance</td>\n",
       "      <td>Dallas, TX</td>\n",
       "      <td>0.9</td>\n",
       "      <td>0.5</td>\n",
       "      <td>joy</td>\n",
       "      <td>joy</td>\n",
       "    </tr>\n",
       "  </tbody>\n",
       "</table>\n",
       "</div>"
      ],
      "text/plain": [
       "  Employee ID                                     Employee Chats  \\\n",
       "0      EMP001  I love how leadership listens to our concerns ...   \n",
       "1      EMP002  It's so frustrating when decisions are made wi...   \n",
       "2      EMP003  If leadership stopped micromanaging, people wo...   \n",
       "3      EMP004  We spend too much time on manual reports when ...   \n",
       "4      EMP005  This company has given me incredible career gr...   \n",
       "\n",
       "                                   Employee Feedback   Division/Organization  \\\n",
       "0  This initiative looks great but execution is e...               Marketing   \n",
       "1  Great concept but people will only use it if i...  Learning & Development   \n",
       "2  This would improve morale but only if leadersh...                 Finance   \n",
       "3  This is a great idea but we need to consider c...        Customer Support   \n",
       "4  This is an exciting idea! If we get the right ...                 Finance   \n",
       "\n",
       "  Location of Office  chat_sentiment  feedback_sentiment chat_emotion  \\\n",
       "0        Atlanta, GA             0.9                 0.0          joy   \n",
       "1    Los Angeles, CA            -0.8                 0.0      sadness   \n",
       "2         Boston, MA            -0.3                -0.4      neutral   \n",
       "3       New York, NY             0.0                 0.0      neutral   \n",
       "4         Dallas, TX             0.9                 0.5          joy   \n",
       "\n",
       "  feedback_emotion  \n",
       "0          neutral  \n",
       "1          neutral  \n",
       "2          neutral  \n",
       "3          neutral  \n",
       "4              joy  "
      ]
     },
     "execution_count": 18,
     "metadata": {},
     "output_type": "execute_result"
    }
   ],
   "source": [
    "reviews_df.head()"
   ]
  },
  {
   "cell_type": "code",
   "execution_count": 21,
   "id": "f181f008-58b3-4840-9993-32bcba34d7f4",
   "metadata": {
    "tags": []
   },
   "outputs": [],
   "source": [
    "new_df = reviews_df"
   ]
  },
  {
   "cell_type": "code",
   "execution_count": 22,
   "id": "c0150a81-9a12-432c-9cbf-468a6fc4e281",
   "metadata": {
    "tags": []
   },
   "outputs": [
    {
     "data": {
      "text/html": [
       "<div>\n",
       "<style scoped>\n",
       "    .dataframe tbody tr th:only-of-type {\n",
       "        vertical-align: middle;\n",
       "    }\n",
       "\n",
       "    .dataframe tbody tr th {\n",
       "        vertical-align: top;\n",
       "    }\n",
       "\n",
       "    .dataframe thead th {\n",
       "        text-align: right;\n",
       "    }\n",
       "</style>\n",
       "<table border=\"1\" class=\"dataframe\">\n",
       "  <thead>\n",
       "    <tr style=\"text-align: right;\">\n",
       "      <th></th>\n",
       "      <th>Employee ID</th>\n",
       "      <th>Employee Chats</th>\n",
       "      <th>Employee Feedback</th>\n",
       "      <th>Division/Organization</th>\n",
       "      <th>Location of Office</th>\n",
       "      <th>chat_sentiment</th>\n",
       "      <th>feedback_sentiment</th>\n",
       "      <th>chat_emotion</th>\n",
       "      <th>feedback_emotion</th>\n",
       "    </tr>\n",
       "  </thead>\n",
       "  <tbody>\n",
       "    <tr>\n",
       "      <th>0</th>\n",
       "      <td>EMP001</td>\n",
       "      <td>I love how leadership listens to our concerns ...</td>\n",
       "      <td>This initiative looks great but execution is e...</td>\n",
       "      <td>Marketing</td>\n",
       "      <td>Atlanta, GA</td>\n",
       "      <td>0.9</td>\n",
       "      <td>0.0</td>\n",
       "      <td>joy</td>\n",
       "      <td>neutral</td>\n",
       "    </tr>\n",
       "    <tr>\n",
       "      <th>1</th>\n",
       "      <td>EMP002</td>\n",
       "      <td>It's so frustrating when decisions are made wi...</td>\n",
       "      <td>Great concept but people will only use it if i...</td>\n",
       "      <td>Learning &amp; Development</td>\n",
       "      <td>Los Angeles, CA</td>\n",
       "      <td>-0.8</td>\n",
       "      <td>0.0</td>\n",
       "      <td>sadness</td>\n",
       "      <td>neutral</td>\n",
       "    </tr>\n",
       "    <tr>\n",
       "      <th>2</th>\n",
       "      <td>EMP003</td>\n",
       "      <td>If leadership stopped micromanaging, people wo...</td>\n",
       "      <td>This would improve morale but only if leadersh...</td>\n",
       "      <td>Finance</td>\n",
       "      <td>Boston, MA</td>\n",
       "      <td>-0.3</td>\n",
       "      <td>-0.4</td>\n",
       "      <td>neutral</td>\n",
       "      <td>neutral</td>\n",
       "    </tr>\n",
       "    <tr>\n",
       "      <th>3</th>\n",
       "      <td>EMP004</td>\n",
       "      <td>We spend too much time on manual reports when ...</td>\n",
       "      <td>This is a great idea but we need to consider c...</td>\n",
       "      <td>Customer Support</td>\n",
       "      <td>New York, NY</td>\n",
       "      <td>0.0</td>\n",
       "      <td>0.0</td>\n",
       "      <td>neutral</td>\n",
       "      <td>neutral</td>\n",
       "    </tr>\n",
       "    <tr>\n",
       "      <th>4</th>\n",
       "      <td>EMP005</td>\n",
       "      <td>This company has given me incredible career gr...</td>\n",
       "      <td>This is an exciting idea! If we get the right ...</td>\n",
       "      <td>Finance</td>\n",
       "      <td>Dallas, TX</td>\n",
       "      <td>0.9</td>\n",
       "      <td>0.5</td>\n",
       "      <td>joy</td>\n",
       "      <td>joy</td>\n",
       "    </tr>\n",
       "  </tbody>\n",
       "</table>\n",
       "</div>"
      ],
      "text/plain": [
       "  Employee ID                                     Employee Chats  \\\n",
       "0      EMP001  I love how leadership listens to our concerns ...   \n",
       "1      EMP002  It's so frustrating when decisions are made wi...   \n",
       "2      EMP003  If leadership stopped micromanaging, people wo...   \n",
       "3      EMP004  We spend too much time on manual reports when ...   \n",
       "4      EMP005  This company has given me incredible career gr...   \n",
       "\n",
       "                                   Employee Feedback   Division/Organization  \\\n",
       "0  This initiative looks great but execution is e...               Marketing   \n",
       "1  Great concept but people will only use it if i...  Learning & Development   \n",
       "2  This would improve morale but only if leadersh...                 Finance   \n",
       "3  This is a great idea but we need to consider c...        Customer Support   \n",
       "4  This is an exciting idea! If we get the right ...                 Finance   \n",
       "\n",
       "  Location of Office  chat_sentiment  feedback_sentiment chat_emotion  \\\n",
       "0        Atlanta, GA             0.9                 0.0          joy   \n",
       "1    Los Angeles, CA            -0.8                 0.0      sadness   \n",
       "2         Boston, MA            -0.3                -0.4      neutral   \n",
       "3       New York, NY             0.0                 0.0      neutral   \n",
       "4         Dallas, TX             0.9                 0.5          joy   \n",
       "\n",
       "  feedback_emotion  \n",
       "0          neutral  \n",
       "1          neutral  \n",
       "2          neutral  \n",
       "3          neutral  \n",
       "4              joy  "
      ]
     },
     "execution_count": 22,
     "metadata": {},
     "output_type": "execute_result"
    }
   ],
   "source": [
    "new_df.head()"
   ]
  },
  {
   "cell_type": "code",
   "execution_count": 23,
   "id": "d0f70104-bc2c-44e2-9764-40708b130ec8",
   "metadata": {
    "tags": []
   },
   "outputs": [],
   "source": [
    "reviews_df.to_csv(\"finalEmployee.csv\", index=False)"
   ]
  }
 ],
 "metadata": {
  "kernelspec": {
   "display_name": "Python 3 (ipykernel)",
   "language": "python",
   "name": "python3"
  },
  "language_info": {
   "codemirror_mode": {
    "name": "ipython",
    "version": 3
   },
   "file_extension": ".py",
   "mimetype": "text/x-python",
   "name": "python",
   "nbconvert_exporter": "python",
   "pygments_lexer": "ipython3",
   "version": "3.11.4"
  }
 },
 "nbformat": 4,
 "nbformat_minor": 5
}
